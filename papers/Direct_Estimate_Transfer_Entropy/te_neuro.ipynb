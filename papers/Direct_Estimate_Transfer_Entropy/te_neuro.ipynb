{
 "cells": [
  {
   "cell_type": "code",
   "execution_count": null,
   "metadata": {},
   "outputs": [],
   "source": [
    "from ms_specific import *"
   ]
  },
  {
   "cell_type": "code",
   "execution_count": null,
   "metadata": {},
   "outputs": [],
   "source": [
    "import constants\n",
    "if constants.venv_sites_path is not None:\n",
    "    import site\n",
    "    site.addsitedir(constants.venv_sites_path)"
   ]
  },
  {
   "cell_type": "code",
   "execution_count": null,
   "metadata": {
    "scrolled": true
   },
   "outputs": [],
   "source": [
    "import time\n",
    "import os\n",
    "\n",
    "# science data packages\n",
    "import pandas as pd\n",
    "import numpy as np\n",
    "import math\n",
    "import scipy.sparse as ss\n",
    "import scipy.stats as scipy_stats\n",
    "\n",
    "# plots related packages\n",
    "import importlib\n",
    "import matplotlib.pyplot as plt\n",
    "%matplotlib inline\n",
    "import plotly.express as px"
   ]
  },
  {
   "cell_type": "code",
   "execution_count": null,
   "metadata": {},
   "outputs": [],
   "source": [
    "pd.__version__"
   ]
  },
  {
   "cell_type": "markdown",
   "metadata": {},
   "source": [
    "## loading the data and assigning full names to tickers"
   ]
  },
  {
   "cell_type": "code",
   "execution_count": null,
   "metadata": {
    "scrolled": true
   },
   "outputs": [],
   "source": [
    "%%time\n",
    "df = pd.read_pickle('./data/neuroscience_data_yc_2s.pickle')"
   ]
  },
  {
   "cell_type": "markdown",
   "metadata": {},
   "source": [
    "## subselect tickers with reasonable no. of trades"
   ]
  },
  {
   "cell_type": "code",
   "execution_count": null,
   "metadata": {
    "scrolled": true
   },
   "outputs": [],
   "source": [
    "import transfer_entropy_evaluator_nbeats_clf as teecr\n",
    "importlib.reload(teecr)\n",
    "\n",
    "# compute time can be reduced significantly by using a lighter architecture. \n",
    "# We use this setting to show best possible results for TE, relating it to whatb we know about the brain.\n",
    "\n",
    "te_eval_obj = teecr.TransferEntropyEvaluatorNBeatsClf(\n",
    "    num_ms_per_timestep=None,\n",
    "    # decided as per the time lag of information passage in brain     \n",
    "    time_lag=40,\n",
    "    num_cores=6,\n",
    "    negative_sample_for_te=True,\n",
    "    max_negative_sample_rate=3.0,\n",
    "    is_hashcode_regularization=True,\n",
    "    num_hash_funcs=15,\n",
    "    normalize_te=False,\n",
    "    is_data_augment_for_te_estimate=True,\n",
    "    # heavily regualrized     \n",
    "    augment_multiplier_for_te_estimate=10,\n",
    "    dir_path_for_saving_hash_models = './saved_hash_models_neuroscience_yc',\n",
    ")\n",
    "\n",
    "te, ce = te_eval_obj.te_regression_neuro_multi_trials(\n",
    "    df=df.copy(),\n",
    "    num_trials=10,\n",
    ")\n",
    "\n",
    "assert te.ndim == 2\n",
    "\n",
    "te[te < 0] = 0\n",
    "order_idx = np.array([2, 3, 5, 4, 0])\n",
    "brain_regions = ['V1', 'LM', 'RL', 'AL', 'AM']\n",
    "\n",
    "plt.close()\n",
    "plt.plot(ce[order_idx], 'o', color='crimson')\n",
    "plt.xticks(range(len(ce)), brain_regions)\n",
    "plt.ylabel('Conditional Entropy')\n",
    "plt.show()\n",
    "\n",
    "fig = px.imshow(\n",
    "    te[order_idx, :][:, order_idx].T,\n",
    "    x=brain_regions,\n",
    "    y=brain_regions,\n",
    "    text_auto='.1f',    \n",
    ")\n",
    "\n",
    "fig.update_layout(\n",
    "    coloraxis_colorbar_x=0.85,\n",
    "    margin=dict(l=0,r=0,b=0,t=0),\n",
    "    font_family=\"Times New Roman\",\n",
    "    font_size=20,\n",
    ")\n",
    "\n",
    "fig.show()"
   ]
  }
 ],
 "metadata": {
  "kernelspec": {
   "display_name": "Python 3",
   "language": "python",
   "name": "python3"
  },
  "language_info": {
   "codemirror_mode": {
    "name": "ipython",
    "version": 3
   },
   "file_extension": ".py",
   "mimetype": "text/x-python",
   "name": "python",
   "nbconvert_exporter": "python",
   "pygments_lexer": "ipython3",
   "version": "3.7.1"
  },
  "varInspector": {
   "cols": {
    "lenName": 16,
    "lenType": 16,
    "lenVar": 40
   },
   "kernels_config": {
    "python": {
     "delete_cmd_postfix": "",
     "delete_cmd_prefix": "del ",
     "library": "var_list.py",
     "varRefreshCmd": "print(var_dic_list())"
    },
    "r": {
     "delete_cmd_postfix": ") ",
     "delete_cmd_prefix": "rm(",
     "library": "var_list.r",
     "varRefreshCmd": "cat(var_dic_list()) "
    }
   },
   "position": {
    "height": "581.4px",
    "left": "1710px",
    "right": "20px",
    "top": "117px",
    "width": "348px"
   },
   "types_to_exclude": [
    "module",
    "function",
    "builtin_function_or_method",
    "instance",
    "_Feature"
   ],
   "window_display": false
  }
 },
 "nbformat": 4,
 "nbformat_minor": 2
}
